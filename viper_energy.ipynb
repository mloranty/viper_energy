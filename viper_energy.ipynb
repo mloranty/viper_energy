{
 "cells": [
  {
   "cell_type": "code",
   "execution_count": null,
   "id": "78e6d966-7a83-4879-8edc-38bdbab09522",
   "metadata": {},
   "outputs": [],
   "source": []
  }
 ],
 "metadata": {
  "kernelspec": {
   "display_name": "",
   "name": ""
  },
  "language_info": {
   "name": ""
  }
 },
 "nbformat": 4,
 "nbformat_minor": 5
}
